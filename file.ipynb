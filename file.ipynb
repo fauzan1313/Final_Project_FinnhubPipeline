{
 "cells": [
  {
   "cell_type": "code",
   "execution_count": null,
   "metadata": {},
   "outputs": [],
   "source": [
    "import finnhub\n",
    "\n",
    "def scrape_news(n_news):\n",
    "   finnhub_client = finnhub.Client(api_key=\"cponpppr01qj9etvb0qgcponpppr01qj9etvb0r0\")\n",
    "\n",
    "    for i in range(n_news):\n",
    "        finnhub_client.general_news('general',min_id=0)"
   ]
  }
 ],
 "metadata": {
  "language_info": {
   "name": "python"
  }
 },
 "nbformat": 4,
 "nbformat_minor": 2
}
